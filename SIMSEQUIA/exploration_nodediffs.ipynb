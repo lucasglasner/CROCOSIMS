{
 "cells": [
  {
   "cell_type": "code",
   "execution_count": 1,
   "metadata": {},
   "outputs": [],
   "source": [
    "import xarray as xr"
   ]
  },
  {
   "cell_type": "code",
   "execution_count": 17,
   "metadata": {},
   "outputs": [],
   "source": [
    "debug = xr.open_dataset('data/DESALADORAS_RUND0_RIOS/nodesdiffs/debug/tmp.nc')\n",
    "part1 = xr.open_dataset('data/DESALADORAS_RUND0_RIOS/nodesdiffs/debug/crocod0_his_Y2001M2.nc')\n",
    "part2 = xr.open_dataset('data/DESALADORAS_RUND0_RIOS/nodesdiffs/part2/crocod0_his_Y2001M2.nc')"
   ]
  }
 ],
 "metadata": {
  "kernelspec": {
   "display_name": "main",
   "language": "python",
   "name": "python3"
  },
  "language_info": {
   "codemirror_mode": {
    "name": "ipython",
    "version": 3
   },
   "file_extension": ".py",
   "mimetype": "text/x-python",
   "name": "python",
   "nbconvert_exporter": "python",
   "pygments_lexer": "ipython3",
   "version": "3.8.13"
  },
  "orig_nbformat": 4,
  "vscode": {
   "interpreter": {
    "hash": "cbec8807e6558c264360eee38c7ea5d8701ec51362396b7d52ad24b952d04fb4"
   }
  }
 },
 "nbformat": 4,
 "nbformat_minor": 2
}
