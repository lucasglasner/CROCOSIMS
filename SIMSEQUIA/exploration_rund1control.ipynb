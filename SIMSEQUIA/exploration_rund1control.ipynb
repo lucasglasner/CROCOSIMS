{
 "cells": [
  {
   "cell_type": "code",
   "execution_count": 2,
   "metadata": {},
   "outputs": [],
   "source": [
    "import xarray as xr\n",
    "import matplotlib.pyplot as plt\n",
    "import matplotlib.dates as mdates\n",
    "import numpy as np\n",
    "import pandas as pd\n",
    "import cartopy.crs as ccrs\n",
    "from glob import glob\n",
    "import xesmf as xe\n",
    "import cmocean\n",
    "import datetime\n",
    "import sys\n",
    "sys.path.append('../')\n",
    "from utils import fix_crocotime\n",
    "from numerics import center_crocogrid, rhopoints_depths, filter_timeseries\n",
    "from load import load_croco"
   ]
  },
  {
   "attachments": {},
   "cell_type": "markdown",
   "metadata": {},
   "source": [
    "---\n",
    "### CHECK SPINUP"
   ]
  },
  {
   "cell_type": "code",
   "execution_count": 39,
   "metadata": {},
   "outputs": [
    {
     "name": "stderr",
     "output_type": "stream",
     "text": [
      "/tmp/ipykernel_24968/1563909060.py:1: DtypeWarning: Columns (0,1,2,3,4) have mixed types. Specify dtype option on import or set low_memory=False.\n",
      "  status = pd.read_csv('data/crocod1_status.out',index_col=1, sep=' ')[::180]\n"
     ]
    },
    {
     "data": {
      "text/html": [
       "<div>\n",
       "<style scoped>\n",
       "    .dataframe tbody tr th:only-of-type {\n",
       "        vertical-align: middle;\n",
       "    }\n",
       "\n",
       "    .dataframe tbody tr th {\n",
       "        vertical-align: top;\n",
       "    }\n",
       "\n",
       "    .dataframe thead th {\n",
       "        text-align: right;\n",
       "    }\n",
       "</style>\n",
       "<table border=\"1\" class=\"dataframe\">\n",
       "  <thead>\n",
       "    <tr style=\"text-align: right;\">\n",
       "      <th></th>\n",
       "      <th>STEP</th>\n",
       "      <th>KINETIC_ENERGY</th>\n",
       "      <th>POTENTIAL_ENERGY</th>\n",
       "      <th>TOTAL_ENRGY</th>\n",
       "      <th>NET_VOLUME</th>\n",
       "    </tr>\n",
       "  </thead>\n",
       "  <tbody>\n",
       "    <tr>\n",
       "      <th>2000-01-01 00:00:00.000000000</th>\n",
       "      <td>0</td>\n",
       "      <td>0.002471</td>\n",
       "      <td>46.753173</td>\n",
       "      <td>46.755645</td>\n",
       "      <td>1.444504e+140</td>\n",
       "    </tr>\n",
       "    <tr>\n",
       "      <th>2000-01-01 01:00:00.287999744</th>\n",
       "      <td>180</td>\n",
       "      <td>0.137705</td>\n",
       "      <td>46.594591</td>\n",
       "      <td>46.732296</td>\n",
       "      <td>1.444593e+140</td>\n",
       "    </tr>\n",
       "    <tr>\n",
       "      <th>2000-01-01 01:59:59.712000256</th>\n",
       "      <td>360</td>\n",
       "      <td>0.239384</td>\n",
       "      <td>46.29589</td>\n",
       "      <td>46.535274</td>\n",
       "      <td>1.444578e+140</td>\n",
       "    </tr>\n",
       "    <tr>\n",
       "      <th>2000-01-01 03:00:00.000000000</th>\n",
       "      <td>540</td>\n",
       "      <td>0.250293</td>\n",
       "      <td>46.004663</td>\n",
       "      <td>46.254956</td>\n",
       "      <td>1.444573e+140</td>\n",
       "    </tr>\n",
       "    <tr>\n",
       "      <th>2000-01-01 04:00:00.287999744</th>\n",
       "      <td>720</td>\n",
       "      <td>0.259251</td>\n",
       "      <td>45.64017</td>\n",
       "      <td>45.899421</td>\n",
       "      <td>1.444579e+140</td>\n",
       "    </tr>\n",
       "    <tr>\n",
       "      <th>...</th>\n",
       "      <td>...</td>\n",
       "      <td>...</td>\n",
       "      <td>...</td>\n",
       "      <td>...</td>\n",
       "      <td>...</td>\n",
       "    </tr>\n",
       "    <tr>\n",
       "      <th>2000-09-30 19:47:20.256000000</th>\n",
       "      <td>1182922</td>\n",
       "      <td>0.002634</td>\n",
       "      <td>47.866234</td>\n",
       "      <td>47.868868</td>\n",
       "      <td>1.444450e+140</td>\n",
       "    </tr>\n",
       "    <tr>\n",
       "      <th>2000-09-30 20:47:19.679999744</th>\n",
       "      <td>1183102</td>\n",
       "      <td>0.002628</td>\n",
       "      <td>47.866891</td>\n",
       "      <td>47.869518</td>\n",
       "      <td>1.444450e+140</td>\n",
       "    </tr>\n",
       "    <tr>\n",
       "      <th>2000-09-30 21:47:19.968000000</th>\n",
       "      <td>1183282</td>\n",
       "      <td>0.002622</td>\n",
       "      <td>47.867598</td>\n",
       "      <td>47.87022</td>\n",
       "      <td>1.444450e+140</td>\n",
       "    </tr>\n",
       "    <tr>\n",
       "      <th>2000-09-30 22:47:20.256000000</th>\n",
       "      <td>1183462</td>\n",
       "      <td>0.002616</td>\n",
       "      <td>47.868345</td>\n",
       "      <td>47.870961</td>\n",
       "      <td>1.444450e+140</td>\n",
       "    </tr>\n",
       "    <tr>\n",
       "      <th>2000-09-30 23:47:19.679999744</th>\n",
       "      <td>1183642</td>\n",
       "      <td>0.002611</td>\n",
       "      <td>47.869116</td>\n",
       "      <td>47.871727</td>\n",
       "      <td>1.444450e+140</td>\n",
       "    </tr>\n",
       "  </tbody>\n",
       "</table>\n",
       "<p>775 rows × 5 columns</p>\n",
       "</div>"
      ],
      "text/plain": [
       "                                  STEP KINETIC_ENERGY POTENTIAL_ENERGY  \\\n",
       "2000-01-01 00:00:00.000000000        0       0.002471        46.753173   \n",
       "2000-01-01 01:00:00.287999744      180       0.137705        46.594591   \n",
       "2000-01-01 01:59:59.712000256      360       0.239384         46.29589   \n",
       "2000-01-01 03:00:00.000000000      540       0.250293        46.004663   \n",
       "2000-01-01 04:00:00.287999744      720       0.259251         45.64017   \n",
       "...                                ...            ...              ...   \n",
       "2000-09-30 19:47:20.256000000  1182922       0.002634        47.866234   \n",
       "2000-09-30 20:47:19.679999744  1183102       0.002628        47.866891   \n",
       "2000-09-30 21:47:19.968000000  1183282       0.002622        47.867598   \n",
       "2000-09-30 22:47:20.256000000  1183462       0.002616        47.868345   \n",
       "2000-09-30 23:47:19.679999744  1183642       0.002611        47.869116   \n",
       "\n",
       "                              TOTAL_ENRGY     NET_VOLUME  \n",
       "2000-01-01 00:00:00.000000000   46.755645  1.444504e+140  \n",
       "2000-01-01 01:00:00.287999744   46.732296  1.444593e+140  \n",
       "2000-01-01 01:59:59.712000256   46.535274  1.444578e+140  \n",
       "2000-01-01 03:00:00.000000000   46.254956  1.444573e+140  \n",
       "2000-01-01 04:00:00.287999744   45.899421  1.444579e+140  \n",
       "...                                   ...            ...  \n",
       "2000-09-30 19:47:20.256000000   47.868868  1.444450e+140  \n",
       "2000-09-30 20:47:19.679999744   47.869518  1.444450e+140  \n",
       "2000-09-30 21:47:19.968000000    47.87022  1.444450e+140  \n",
       "2000-09-30 22:47:20.256000000   47.870961  1.444450e+140  \n",
       "2000-09-30 23:47:19.679999744   47.871727  1.444450e+140  \n",
       "\n",
       "[775 rows x 5 columns]"
      ]
     },
     "execution_count": 39,
     "metadata": {},
     "output_type": "execute_result"
    }
   ],
   "source": [
    "status = pd.read_csv('data/crocod1_status.out',index_col=1, sep=' ')[::180]\n",
    "status = status[np.array([type(x)==float for x in status.index])]\n",
    "status.index = [pd.Timedelta(days=d)+pd.to_datetime('1949-12-31') for d in status.index]\n",
    "status"
   ]
  },
  {
   "cell_type": "code",
   "execution_count": 48,
   "metadata": {},
   "outputs": [
    {
     "data": {
      "image/png": "[encoded data removed]",
      "text/plain": [
       "<Figure size 1440x360 with 1 Axes>"
      ]
     },
     "metadata": {
      "needs_background": "light"
     },
     "output_type": "display_data"
    }
   ],
   "source": [
    "status.KINETIC_ENERGY.plot(figsize=(20,5))\n",
    "ax = plt.gca()\n",
    "# ax.xaxis.set_major_locator(mdates.YearLocator())\n",
    "ax.grid(True, ls=\":\")\n",
    "ax.set_title('SIMULATION TOTAL KINETIC ENERGY', loc='left')\n",
    "ax.set_ylabel('$m^2s^{-2}$')\n",
    "ax.tick_params(axis='x', rotation=0)\n",
    "# ax.set_ylim(0.0015,0.007)"
   ]
  }
 ],
 "metadata": {
  "kernelspec": {
   "display_name": "main",
   "language": "python",
   "name": "python3"
  },
  "language_info": {
   "codemirror_mode": {
    "name": "ipython",
    "version": 3
   },
   "file_extension": ".py",
   "mimetype": "text/x-python",
   "name": "python",
   "nbconvert_exporter": "python",
   "pygments_lexer": "ipython3",
   "version": "3.8.13"
  },
  "orig_nbformat": 4
 },
 "nbformat": 4,
 "nbformat_minor": 2
}
